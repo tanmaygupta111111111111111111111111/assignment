{
 "cells": [
  {
   "cell_type": "code",
   "execution_count": 1,
   "id": "3d79530f-74c4-4490-a06d-f94fc0a533d6",
   "metadata": {},
   "outputs": [],
   "source": [
    "##assignmet"
   ]
  },
  {
   "cell_type": "code",
   "execution_count": 2,
   "id": "44c93722-20ee-46f8-8090-3f4feb47cd9d",
   "metadata": {},
   "outputs": [],
   "source": [
    "##answer1\n",
    "s=\"tanmay\"\n",
    "l=[1,23,4,56]\n",
    "f=12.332\n",
    "t=(1,2,33,4)"
   ]
  },
  {
   "cell_type": "code",
   "execution_count": 3,
   "id": "b716f6e4-2d89-40a1-bbe4-472e94156b04",
   "metadata": {},
   "outputs": [],
   "source": [
    "##answer2\n",
    "##1)string\n",
    "##2)string\n",
    "##3)list\n",
    "##4)int"
   ]
  },
  {
   "cell_type": "code",
   "execution_count": 7,
   "id": "7706c692-931b-4f04-a6e2-5cadaa5346d4",
   "metadata": {},
   "outputs": [],
   "source": [
    "##answer3\n",
    "##1)/->\"this operator is known as divide operator and it is use to find quotient of the number\"\n",
    "##2)%->\"this operator is known as modulo operator and it is use to find remaninder of a number\"\n",
    "##3)//->\"this operator is use to find integer quotient of a number\"\n",
    "##4)**->\"this operator is use to find exponent of a number"
   ]
  },
  {
   "cell_type": "code",
   "execution_count": 8,
   "id": "6a3e0899-4ffe-4caa-b1de-cb180bf2ab52",
   "metadata": {},
   "outputs": [
    {
     "name": "stdout",
     "output_type": "stream",
     "text": [
      "<class 'str'>\n",
      "<class 'str'>\n",
      "<class 'str'>\n",
      "<class 'str'>\n",
      "<class 'int'>\n",
      "<class 'float'>\n",
      "<class 'int'>\n",
      "<class 'complex'>\n",
      "<class 'tuple'>\n",
      "<class 'set'>\n"
     ]
    }
   ],
   "source": [
    "##answer 4\n",
    "l=[\"tanmay\",\"tamas\",\"beena\",\"laxmi\",1,12.43,2222232432,1+5j,(1,2,3),{1,2,3}]\n",
    "for i in l:\n",
    "    print(type(i))\n"
   ]
  },
  {
   "cell_type": "code",
   "execution_count": 6,
   "id": "78ae4afc-8222-4475-b1be-76cecf6cdde9",
   "metadata": {},
   "outputs": [
    {
     "name": "stdin",
     "output_type": "stream",
     "text": [
      "enter the number: 14\n",
      "enter the divisor 2\n"
     ]
    },
    {
     "name": "stdout",
     "output_type": "stream",
     "text": [
      "NUMBER IS DIVISIBLE BY B    1 times\n"
     ]
    }
   ],
   "source": [
    "##ansrer 5\n",
    "A =int(input(\"enter the number:\"))\n",
    "B =int(input(\"enter the divisor\"))\n",
    "c=0\n",
    "while(A%B==0 and A>0):\n",
    "    c=c+1\n",
    "    A=A/B\n",
    "if(c>0):\n",
    "    print(\"NUMBER IS DIVISIBLE BY B   \",c,\"times\")\n",
    "else:\n",
    "    print(\"NUMBER IS NOT DIVISIBLE BY B:\")\n",
    "\n",
    "        \n",
    "   "
   ]
  },
  {
   "cell_type": "code",
   "execution_count": 8,
   "id": "fe678b79-c056-4a11-9063-3db33424f821",
   "metadata": {},
   "outputs": [
    {
     "name": "stdout",
     "output_type": "stream",
     "text": [
      "not divisible\n",
      "not divisible\n",
      "divisible\n",
      "not divisible\n",
      "not divisible\n",
      "not divisible\n",
      "not divisible\n",
      "divisible\n",
      "divisible\n",
      "not divisible\n",
      "divisible\n",
      "not divisible\n",
      "divisible\n",
      "divisible\n",
      "not divisible\n",
      "not divisible\n",
      "not divisible\n",
      "divisible\n",
      "not divisible\n",
      "not divisible\n",
      "divisible\n",
      "divisible\n",
      "not divisible\n",
      "not divisible\n",
      "not divisible\n"
     ]
    }
   ],
   "source": [
    "##answer6\n",
    "l=[1,2,3,4,4,5,5,6,6,5,54,5,54,45,5,445,5,45,64,53,45,3,5,5335,545]\n",
    "for i in l:\n",
    "    if(i%3==0):\n",
    "        print(\"divisible\")\n",
    "    else:\n",
    "        print(\"not divisible\")"
   ]
  },
  {
   "cell_type": "code",
   "execution_count": null,
   "id": "a92e19eb-8ce7-47f6-92f6-7bce3922ccb9",
   "metadata": {},
   "outputs": [],
   "source": [
    "##answer 7\n",
    "##1)mutable data type-mutable data type is data type whose element can be modified .example-list\n",
    "l=[1,2,34]\n",
    "l[1]=5## possible\n",
    "##2)immutable data type-in mutable data type is data type whose element cannot be modified.example-string,tupple\n",
    "s=\"tanamy\"\n",
    "s[1]='f'## not possible"
   ]
  }
 ],
 "metadata": {
  "kernelspec": {
   "display_name": "Python 3 (ipykernel)",
   "language": "python",
   "name": "python3"
  },
  "language_info": {
   "codemirror_mode": {
    "name": "ipython",
    "version": 3
   },
   "file_extension": ".py",
   "mimetype": "text/x-python",
   "name": "python",
   "nbconvert_exporter": "python",
   "pygments_lexer": "ipython3",
   "version": "3.10.8"
  }
 },
 "nbformat": 4,
 "nbformat_minor": 5
}
